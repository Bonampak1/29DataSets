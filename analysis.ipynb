{
 "cells": [
  {
   "cell_type": "code",
   "execution_count": 1,
   "id": "1c9aa18a",
   "metadata": {},
   "outputs": [],
   "source": [
    "# import libraries\n",
    "import pandas as pd\n",
    "import numpy as np\n",
    "import matplotlib.pyplot as plt"
   ]
  },
  {
   "cell_type": "code",
   "execution_count": 2,
   "id": "ad0c2558",
   "metadata": {},
   "outputs": [
    {
     "name": "stderr",
     "output_type": "stream",
     "text": [
      "C:\\Users\\jenin\\AppData\\Local\\Temp\\ipykernel_16960\\4050631435.py:2: DtypeWarning: Columns (10) have mixed types. Specify dtype option on import or set low_memory=False.\n",
      "  st_g1 = pd.read_csv('./1.Saint_George_Police_Data_20231018.csv')\n"
     ]
    },
    {
     "name": "stdout",
     "output_type": "stream",
     "text": [
      "<class 'pandas.core.frame.DataFrame'>\n",
      "RangeIndex: 99999 entries, 0 to 99998\n",
      "Data columns (total 21 columns):\n",
      " #   Column                                                    Non-Null Count  Dtype  \n",
      "---  ------                                                    --------------  -----  \n",
      " 0   incident_id                                               99999 non-null  int64  \n",
      " 1   case_number                                               99999 non-null  object \n",
      " 2   incident_datetime                                         99999 non-null  object \n",
      " 3   incident_type_primary                                     99999 non-null  object \n",
      " 4   incident_description                                      99975 non-null  object \n",
      " 5   clearance_type                                            0 non-null      float64\n",
      " 6   address_1                                                 99978 non-null  object \n",
      " 7   address_2                                                 0 non-null      float64\n",
      " 8   city                                                      99999 non-null  object \n",
      " 9   state                                                     99999 non-null  object \n",
      " 10  zip                                                       25454 non-null  object \n",
      " 11  country                                                   0 non-null      float64\n",
      " 12  latitude                                                  99998 non-null  float64\n",
      " 13  longitude                                                 99998 non-null  float64\n",
      " 14  created_at                                                99994 non-null  object \n",
      " 15  updated_at                                                99999 non-null  object \n",
      " 16  location                                                  99984 non-null  object \n",
      " 17  hour_of_day                                               99999 non-null  int64  \n",
      " 18  day_of_week                                               99999 non-null  object \n",
      " 19  parent_incident_type                                      99999 non-null  object \n",
      " 20  St George Police Department Districts Shapes - qdt2-uyjz  79156 non-null  float64\n",
      "dtypes: float64(6), int64(2), object(13)\n",
      "memory usage: 16.0+ MB\n"
     ]
    }
   ],
   "source": [
    "# 1.Read in data\n",
    "st_g1 = pd.read_csv('./1.Saint_George_Police_Data_20231018.csv')\n",
    "st_g1.info()"
   ]
  },
  {
   "cell_type": "code",
   "execution_count": 3,
   "id": "80bdc50d",
   "metadata": {},
   "outputs": [
    {
     "name": "stdout",
     "output_type": "stream",
     "text": [
      "<class 'pandas.core.frame.DataFrame'>\n",
      "RangeIndex: 90243 entries, 0 to 90242\n",
      "Data columns (total 21 columns):\n",
      " #   Column                                                    Non-Null Count  Dtype  \n",
      "---  ------                                                    --------------  -----  \n",
      " 0   incident_id                                               90243 non-null  int64  \n",
      " 1   case_number                                               90243 non-null  object \n",
      " 2   incident_datetime                                         90243 non-null  object \n",
      " 3   incident_type_primary                                     90243 non-null  object \n",
      " 4   incident_description                                      90144 non-null  object \n",
      " 5   clearance_type                                            0 non-null      float64\n",
      " 6   address_1                                                 90228 non-null  object \n",
      " 7   address_2                                                 0 non-null      float64\n",
      " 8   city                                                      90243 non-null  object \n",
      " 9   state                                                     90243 non-null  object \n",
      " 10  zip                                                       32649 non-null  object \n",
      " 11  country                                                   0 non-null      float64\n",
      " 12  latitude                                                  90243 non-null  float64\n",
      " 13  longitude                                                 90243 non-null  float64\n",
      " 14  created_at                                                90243 non-null  object \n",
      " 15  updated_at                                                90243 non-null  object \n",
      " 16  location                                                  90240 non-null  object \n",
      " 17  hour_of_day                                               90243 non-null  int64  \n",
      " 18  day_of_week                                               90243 non-null  object \n",
      " 19  parent_incident_type                                      90243 non-null  object \n",
      " 20  St George Police Department Districts Shapes - qdt2-uyjz  59944 non-null  float64\n",
      "dtypes: float64(6), int64(2), object(13)\n",
      "memory usage: 14.5+ MB\n"
     ]
    },
    {
     "name": "stderr",
     "output_type": "stream",
     "text": [
      "C:\\Users\\jenin\\AppData\\Local\\Temp\\ipykernel_16960\\1193372075.py:2: DtypeWarning: Columns (10) have mixed types. Specify dtype option on import or set low_memory=False.\n",
      "  st_g2 = pd.read_csv('./2.Saint_George_Police_Data_20231018.csv')\n"
     ]
    }
   ],
   "source": [
    "# Read in data\n",
    "st_g2 = pd.read_csv('./2.Saint_George_Police_Data_20231018.csv')\n",
    "st_g2.info()"
   ]
  },
  {
   "cell_type": "code",
   "execution_count": 4,
   "id": "03e5f8c8",
   "metadata": {},
   "outputs": [
    {
     "name": "stdout",
     "output_type": "stream",
     "text": [
      "<class 'pandas.core.frame.DataFrame'>\n",
      "RangeIndex: 2676 entries, 0 to 2675\n",
      "Data columns (total 20 columns):\n",
      " #   Column                 Non-Null Count  Dtype  \n",
      "---  ------                 --------------  -----  \n",
      " 0   Unnamed Column         2676 non-null   int64  \n",
      " 1   address_1              2653 non-null   object \n",
      " 2   case_number            2676 non-null   int64  \n",
      " 3   city                   2676 non-null   object \n",
      " 4   clearance_type         0 non-null      float64\n",
      " 5   country                1 non-null      object \n",
      " 6   created_at             2676 non-null   object \n",
      " 7   day_of_week            2676 non-null   object \n",
      " 8   hour_of_day            2676 non-null   int64  \n",
      " 9   incident_datetime      2676 non-null   object \n",
      " 10  incident_description   2676 non-null   object \n",
      " 11  incident_id            2676 non-null   int64  \n",
      " 12  incident_type_primary  2676 non-null   object \n",
      " 13  latitude               2676 non-null   float64\n",
      " 14  location               2676 non-null   object \n",
      " 15  longitude              2676 non-null   float64\n",
      " 16  parent_incident_type   2676 non-null   object \n",
      " 17  state                  2676 non-null   object \n",
      " 18  updated_at             2676 non-null   object \n",
      " 19  zip                    2514 non-null   float64\n",
      "dtypes: float64(4), int64(4), object(12)\n",
      "memory usage: 418.3+ KB\n"
     ]
    }
   ],
   "source": [
    "# 2.Read in data\n",
    "beaver = pd.read_csv('./Beaver_County_Police_Crime_Data_20231011.csv')\n",
    "beaver.info()"
   ]
  },
  {
   "cell_type": "code",
   "execution_count": 5,
   "id": "77153211",
   "metadata": {},
   "outputs": [
    {
     "name": "stdout",
     "output_type": "stream",
     "text": [
      "<class 'pandas.core.frame.DataFrame'>\n",
      "RangeIndex: 15000 entries, 0 to 14999\n",
      "Data columns (total 19 columns):\n",
      " #   Column                 Non-Null Count  Dtype  \n",
      "---  ------                 --------------  -----  \n",
      " 0   column 1               15000 non-null  int64  \n",
      " 1   address_1              15000 non-null  object \n",
      " 2   case_number            15000 non-null  object \n",
      " 3   city                   14999 non-null  object \n",
      " 4   clearance_type         0 non-null      float64\n",
      " 5   created_at             15000 non-null  object \n",
      " 6   day_of_week            15000 non-null  object \n",
      " 7   hour_of_day            15000 non-null  int64  \n",
      " 8   incident_datetime      15000 non-null  object \n",
      " 9   incident_description   15000 non-null  object \n",
      " 10  incident_id            15000 non-null  int64  \n",
      " 11  incident_type_primary  15000 non-null  object \n",
      " 12  latitude               15000 non-null  float64\n",
      " 13  location               15000 non-null  object \n",
      " 14  longitude              15000 non-null  float64\n",
      " 15  parent_incident_type   15000 non-null  object \n",
      " 16  state                  15000 non-null  object \n",
      " 17  updated_at             15000 non-null  object \n",
      " 18  zip                    14957 non-null  float64\n",
      "dtypes: float64(4), int64(3), object(12)\n",
      "memory usage: 2.2+ MB\n"
     ]
    }
   ],
   "source": [
    "# 3.Read in data\n",
    "Brigham = pd.read_csv('./Brigham_City_Police_Crime_Data_20231018.csv')\n",
    "Brigham.info()"
   ]
  },
  {
   "cell_type": "code",
   "execution_count": 6,
   "id": "67a2bc40",
   "metadata": {},
   "outputs": [
    {
     "name": "stdout",
     "output_type": "stream",
     "text": [
      "<class 'pandas.core.frame.DataFrame'>\n",
      "RangeIndex: 15000 entries, 0 to 14999\n",
      "Data columns (total 20 columns):\n",
      " #   Column                 Non-Null Count  Dtype  \n",
      "---  ------                 --------------  -----  \n",
      " 0   column 1               15000 non-null  int64  \n",
      " 1   address_1              15000 non-null  object \n",
      " 2   case_number            15000 non-null  object \n",
      " 3   city                   15000 non-null  object \n",
      " 4   clearance_type         0 non-null      float64\n",
      " 5   country                0 non-null      float64\n",
      " 6   created_at             15000 non-null  object \n",
      " 7   day_of_week            15000 non-null  object \n",
      " 8   hour_of_day            15000 non-null  int64  \n",
      " 9   incident_datetime      15000 non-null  object \n",
      " 10  incident_description   15000 non-null  object \n",
      " 11  incident_id            15000 non-null  int64  \n",
      " 12  incident_type_primary  15000 non-null  object \n",
      " 13  latitude               15000 non-null  float64\n",
      " 14  location               15000 non-null  object \n",
      " 15  longitude              15000 non-null  float64\n",
      " 16  parent_incident_type   15000 non-null  object \n",
      " 17  state                  15000 non-null  object \n",
      " 18  updated_at             15000 non-null  object \n",
      " 19  zip                    0 non-null      float64\n",
      "dtypes: float64(5), int64(3), object(12)\n",
      "memory usage: 2.3+ MB\n"
     ]
    }
   ],
   "source": [
    "# 4.Read in data\n",
    "cache = pd.read_csv('./Cache_County_Sheriff_Police_Crime_Data_20231018.csv')\n",
    "cache.info()"
   ]
  },
  {
   "cell_type": "code",
   "execution_count": 7,
   "id": "eb4684c1",
   "metadata": {},
   "outputs": [
    {
     "name": "stdout",
     "output_type": "stream",
     "text": [
      "<class 'pandas.core.frame.DataFrame'>\n",
      "RangeIndex: 4061 entries, 0 to 4060\n",
      "Data columns (total 20 columns):\n",
      " #   Column                 Non-Null Count  Dtype  \n",
      "---  ------                 --------------  -----  \n",
      " 0   Unnamed Column         4061 non-null   int64  \n",
      " 1   address_1              4035 non-null   object \n",
      " 2   case_number            4061 non-null   object \n",
      " 3   city                   4061 non-null   object \n",
      " 4   clearance_type         0 non-null      float64\n",
      " 5   country                0 non-null      float64\n",
      " 6   created_at             4061 non-null   object \n",
      " 7   day_of_week            4061 non-null   object \n",
      " 8   hour_of_day            4061 non-null   int64  \n",
      " 9   incident_datetime      4061 non-null   object \n",
      " 10  incident_description   4061 non-null   object \n",
      " 11  incident_id            4061 non-null   int64  \n",
      " 12  incident_type_primary  4061 non-null   object \n",
      " 13  latitude               4035 non-null   float64\n",
      " 14  location               4035 non-null   object \n",
      " 15  longitude              4035 non-null   float64\n",
      " 16  parent_incident_type   4061 non-null   object \n",
      " 17  state                  4061 non-null   object \n",
      " 18  updated_at             4061 non-null   object \n",
      " 19  zip                    3987 non-null   float64\n",
      "dtypes: float64(5), int64(3), object(12)\n",
      "memory usage: 634.7+ KB\n"
     ]
    }
   ],
   "source": [
    "# 5.Read in data\n",
    "ephraim = pd.read_csv('./Ephraim_City_Police_Crime_Data_20231018.csv')\n",
    "ephraim.info()"
   ]
  },
  {
   "cell_type": "code",
   "execution_count": 8,
   "id": "43f6aa8d",
   "metadata": {},
   "outputs": [
    {
     "name": "stdout",
     "output_type": "stream",
     "text": [
      "<class 'pandas.core.frame.DataFrame'>\n",
      "RangeIndex: 8513 entries, 0 to 8512\n",
      "Data columns (total 20 columns):\n",
      " #   Column                 Non-Null Count  Dtype  \n",
      "---  ------                 --------------  -----  \n",
      " 0   Unnamed Column         8513 non-null   int64  \n",
      " 1   address_1              8504 non-null   object \n",
      " 2   case_number            8513 non-null   object \n",
      " 3   city                   8495 non-null   object \n",
      " 4   clearance_type         0 non-null      float64\n",
      " 5   country                0 non-null      float64\n",
      " 6   created_at             8513 non-null   object \n",
      " 7   day_of_week            8513 non-null   object \n",
      " 8   hour_of_day            8513 non-null   int64  \n",
      " 9   incident_datetime      8513 non-null   object \n",
      " 10  incident_description   8512 non-null   object \n",
      " 11  incident_id            8513 non-null   int64  \n",
      " 12  incident_type_primary  8513 non-null   object \n",
      " 13  latitude               8509 non-null   float64\n",
      " 14  location               8509 non-null   object \n",
      " 15  longitude              8509 non-null   float64\n",
      " 16  parent_incident_type   8513 non-null   object \n",
      " 17  state                  8487 non-null   object \n",
      " 18  updated_at             8513 non-null   object \n",
      " 19  zip                    1794 non-null   float64\n",
      "dtypes: float64(5), int64(3), object(12)\n",
      "memory usage: 1.3+ MB\n"
     ]
    }
   ],
   "source": [
    "# 6.Read in data\n",
    "iron = pd.read_csv('./Iron_County_Sheriffs_Office_Crime_Police_Data_20231018.csv')\n",
    "iron.info()"
   ]
  },
  {
   "cell_type": "code",
   "execution_count": 9,
   "id": "407dbc45",
   "metadata": {},
   "outputs": [
    {
     "name": "stdout",
     "output_type": "stream",
     "text": [
      "<class 'pandas.core.frame.DataFrame'>\n",
      "RangeIndex: 1640 entries, 0 to 1639\n",
      "Data columns (total 20 columns):\n",
      " #   Column                 Non-Null Count  Dtype  \n",
      "---  ------                 --------------  -----  \n",
      " 0   Unnamed Column         1640 non-null   int64  \n",
      " 1   address_1              1640 non-null   object \n",
      " 2   case_number            1640 non-null   object \n",
      " 3   city                   1640 non-null   object \n",
      " 4   clearance_type         0 non-null      float64\n",
      " 5   country                0 non-null      float64\n",
      " 6   created_at             1640 non-null   object \n",
      " 7   day_of_week            1640 non-null   object \n",
      " 8   hour_of_day            1640 non-null   int64  \n",
      " 9   incident_datetime      1640 non-null   object \n",
      " 10  incident_description   1640 non-null   object \n",
      " 11  incident_id            1640 non-null   int64  \n",
      " 12  incident_type_primary  1640 non-null   object \n",
      " 13  latitude               1640 non-null   float64\n",
      " 14  location               1640 non-null   object \n",
      " 15  longitude              1640 non-null   float64\n",
      " 16  parent_incident_type   1640 non-null   object \n",
      " 17  state                  1640 non-null   object \n",
      " 18  updated_at             1640 non-null   object \n",
      " 19  zip                    0 non-null      float64\n",
      "dtypes: float64(5), int64(3), object(12)\n",
      "memory usage: 256.4+ KB\n"
     ]
    }
   ],
   "source": [
    "# 7.Read in data\n",
    "juab = pd.read_csv('./Juab_County_Sheriff_Police_Crime_Data_20231018.csv')\n",
    "juab.info()"
   ]
  },
  {
   "cell_type": "code",
   "execution_count": 10,
   "id": "d6d11be4",
   "metadata": {},
   "outputs": [
    {
     "name": "stdout",
     "output_type": "stream",
     "text": [
      "<class 'pandas.core.frame.DataFrame'>\n",
      "RangeIndex: 15000 entries, 0 to 14999\n",
      "Data columns (total 19 columns):\n",
      " #   Column                 Non-Null Count  Dtype  \n",
      "---  ------                 --------------  -----  \n",
      " 0   column 1               15000 non-null  int64  \n",
      " 1   address_1              15000 non-null  object \n",
      " 2   case_number            15000 non-null  object \n",
      " 3   city                   15000 non-null  object \n",
      " 4   clearance_type         0 non-null      float64\n",
      " 5   created_at             15000 non-null  object \n",
      " 6   day_of_week            15000 non-null  object \n",
      " 7   hour_of_day            15000 non-null  int64  \n",
      " 8   incident_datetime      15000 non-null  object \n",
      " 9   incident_description   15000 non-null  object \n",
      " 10  incident_id            15000 non-null  int64  \n",
      " 11  incident_type_primary  15000 non-null  object \n",
      " 12  latitude               15000 non-null  float64\n",
      " 13  location               15000 non-null  object \n",
      " 14  longitude              15000 non-null  float64\n",
      " 15  parent_incident_type   15000 non-null  object \n",
      " 16  state                  15000 non-null  object \n",
      " 17  updated_at             15000 non-null  object \n",
      " 18  zip                    13271 non-null  float64\n",
      "dtypes: float64(4), int64(3), object(12)\n",
      "memory usage: 2.2+ MB\n"
     ]
    }
   ],
   "source": [
    "# 8.Read in data\n",
    "kaysville = pd.read_csv('./Kaysville_City_Police_Crime_Data_20231018.csv')\n",
    "kaysville.info()"
   ]
  },
  {
   "cell_type": "code",
   "execution_count": 11,
   "id": "4683e302",
   "metadata": {},
   "outputs": [
    {
     "name": "stdout",
     "output_type": "stream",
     "text": [
      "<class 'pandas.core.frame.DataFrame'>\n",
      "RangeIndex: 15000 entries, 0 to 14999\n",
      "Data columns (total 20 columns):\n",
      " #   Column                 Non-Null Count  Dtype  \n",
      "---  ------                 --------------  -----  \n",
      " 0   Unnamed Column         15000 non-null  int64  \n",
      " 1   address_1              14995 non-null  object \n",
      " 2   case_number            15000 non-null  object \n",
      " 3   city                   14969 non-null  object \n",
      " 4   clearance_type         0 non-null      float64\n",
      " 5   country                0 non-null      float64\n",
      " 6   created_at             15000 non-null  object \n",
      " 7   day_of_week            15000 non-null  object \n",
      " 8   hour_of_day            15000 non-null  int64  \n",
      " 9   incident_datetime      15000 non-null  object \n",
      " 10  incident_description   14996 non-null  object \n",
      " 11  incident_id            15000 non-null  int64  \n",
      " 12  incident_type_primary  15000 non-null  object \n",
      " 13  latitude               15000 non-null  float64\n",
      " 14  location               15000 non-null  object \n",
      " 15  longitude              15000 non-null  float64\n",
      " 16  parent_incident_type   15000 non-null  object \n",
      " 17  state                  15000 non-null  object \n",
      " 18  updated_at             15000 non-null  object \n",
      " 19  zip                    393 non-null    float64\n",
      "dtypes: float64(5), int64(3), object(12)\n",
      "memory usage: 2.3+ MB\n"
     ]
    }
   ],
   "source": [
    "# 9.Read in data\n",
    "park_city = pd.read_csv('./Park_City_Police_Crime_Data_20231018.csv')\n",
    "park_city.info()"
   ]
  },
  {
   "cell_type": "code",
   "execution_count": 12,
   "id": "3f94d44f",
   "metadata": {},
   "outputs": [
    {
     "name": "stdout",
     "output_type": "stream",
     "text": [
      "<class 'pandas.core.frame.DataFrame'>\n",
      "RangeIndex: 679 entries, 0 to 678\n",
      "Data columns (total 19 columns):\n",
      " #   Column                 Non-Null Count  Dtype  \n",
      "---  ------                 --------------  -----  \n",
      " 0   column 1               679 non-null    int64  \n",
      " 1   address_1              679 non-null    object \n",
      " 2   case_number            679 non-null    object \n",
      " 3   city                   679 non-null    object \n",
      " 4   clearance_type         0 non-null      float64\n",
      " 5   created_at             679 non-null    object \n",
      " 6   day_of_week            679 non-null    object \n",
      " 7   hour_of_day            679 non-null    int64  \n",
      " 8   incident_datetime      679 non-null    object \n",
      " 9   incident_description   679 non-null    object \n",
      " 10  incident_id            679 non-null    int64  \n",
      " 11  incident_type_primary  679 non-null    object \n",
      " 12  latitude               679 non-null    float64\n",
      " 13  location               679 non-null    object \n",
      " 14  longitude              679 non-null    float64\n",
      " 15  parent_incident_type   679 non-null    object \n",
      " 16  state                  679 non-null    object \n",
      " 17  updated_at             679 non-null    object \n",
      " 18  zip                    661 non-null    float64\n",
      "dtypes: float64(4), int64(3), object(12)\n",
      "memory usage: 100.9+ KB\n"
     ]
    }
   ],
   "source": [
    "# 10.Read in data\n",
    "perry = pd.read_csv('./Perry_City_Police_Crime_Data_20231018.csv')\n",
    "perry.info()"
   ]
  },
  {
   "cell_type": "code",
   "execution_count": 13,
   "id": "1274fc54",
   "metadata": {},
   "outputs": [
    {
     "name": "stdout",
     "output_type": "stream",
     "text": [
      "<class 'pandas.core.frame.DataFrame'>\n",
      "RangeIndex: 15000 entries, 0 to 14999\n",
      "Data columns (total 19 columns):\n",
      " #   Column                 Non-Null Count  Dtype  \n",
      "---  ------                 --------------  -----  \n",
      " 0   column 1               15000 non-null  int64  \n",
      " 1   address_1              15000 non-null  object \n",
      " 2   case_number            15000 non-null  object \n",
      " 3   city                   14999 non-null  object \n",
      " 4   clearance_type         0 non-null      float64\n",
      " 5   created_at             15000 non-null  object \n",
      " 6   day_of_week            15000 non-null  object \n",
      " 7   hour_of_day            15000 non-null  int64  \n",
      " 8   incident_datetime      15000 non-null  object \n",
      " 9   incident_description   15000 non-null  object \n",
      " 10  incident_id            15000 non-null  int64  \n",
      " 11  incident_type_primary  15000 non-null  object \n",
      " 12  latitude               15000 non-null  float64\n",
      " 13  location               15000 non-null  object \n",
      " 14  longitude              15000 non-null  float64\n",
      " 15  parent_incident_type   15000 non-null  object \n",
      " 16  state                  15000 non-null  object \n",
      " 17  updated_at             15000 non-null  object \n",
      " 18  zip                    14957 non-null  float64\n",
      "dtypes: float64(4), int64(3), object(12)\n",
      "memory usage: 2.2+ MB\n"
     ]
    }
   ],
   "source": [
    "# 11.Read in data: Pleasant_View_Police_Crime_Data_20231018\n",
    "pleasant_view = pd.read_csv('./Pleasant_View_Police_Crime_Data_20231018.csv')\n",
    "pleasant_view.info()"
   ]
  },
  {
   "cell_type": "code",
   "execution_count": 14,
   "id": "69802f53",
   "metadata": {},
   "outputs": [
    {
     "name": "stdout",
     "output_type": "stream",
     "text": [
      "<class 'pandas.core.frame.DataFrame'>\n",
      "RangeIndex: 8618 entries, 0 to 8617\n",
      "Data columns (total 20 columns):\n",
      " #   Column                 Non-Null Count  Dtype  \n",
      "---  ------                 --------------  -----  \n",
      " 0   Unnamed Column         8618 non-null   int64  \n",
      " 1   address_1              8617 non-null   object \n",
      " 2   case_number            8618 non-null   int64  \n",
      " 3   city                   8618 non-null   object \n",
      " 4   clearance_type         0 non-null      float64\n",
      " 5   country                0 non-null      float64\n",
      " 6   created_at             8582 non-null   object \n",
      " 7   day_of_week            8618 non-null   object \n",
      " 8   hour_of_day            8618 non-null   int64  \n",
      " 9   incident_datetime      8618 non-null   object \n",
      " 10  incident_description   8618 non-null   object \n",
      " 11  incident_id            8618 non-null   int64  \n",
      " 12  incident_type_primary  8618 non-null   object \n",
      " 13  latitude               8617 non-null   float64\n",
      " 14  location               8617 non-null   object \n",
      " 15  longitude              8617 non-null   float64\n",
      " 16  parent_incident_type   8618 non-null   object \n",
      " 17  state                  8618 non-null   object \n",
      " 18  updated_at             8618 non-null   object \n",
      " 19  zip                    8432 non-null   object \n",
      "dtypes: float64(4), int64(4), object(12)\n",
      "memory usage: 1.3+ MB\n"
     ]
    }
   ],
   "source": [
    "# 12.Read in data: Price_Police_Crime_Data_20231018\n",
    "price = pd.read_csv('./Price_Police_Crime_Data_20231018.csv')\n",
    "price.info()"
   ]
  },
  {
   "cell_type": "code",
   "execution_count": 15,
   "id": "fcf3565a",
   "metadata": {},
   "outputs": [
    {
     "name": "stdout",
     "output_type": "stream",
     "text": [
      "<class 'pandas.core.frame.DataFrame'>\n",
      "RangeIndex: 15000 entries, 0 to 14999\n",
      "Data columns (total 20 columns):\n",
      " #   Column                 Non-Null Count  Dtype  \n",
      "---  ------                 --------------  -----  \n",
      " 0   column 1               15000 non-null  int64  \n",
      " 1   address_1              14983 non-null  object \n",
      " 2   case_number            15000 non-null  object \n",
      " 3   city                   15000 non-null  object \n",
      " 4   clearance_type         0 non-null      float64\n",
      " 5   country                0 non-null      float64\n",
      " 6   created_at             15000 non-null  object \n",
      " 7   day_of_week            15000 non-null  object \n",
      " 8   hour_of_day            15000 non-null  int64  \n",
      " 9   incident_datetime      15000 non-null  object \n",
      " 10  incident_description   15000 non-null  object \n",
      " 11  incident_id            15000 non-null  int64  \n",
      " 12  incident_type_primary  15000 non-null  object \n",
      " 13  latitude               14983 non-null  float64\n",
      " 14  location               14983 non-null  object \n",
      " 15  longitude              14983 non-null  float64\n",
      " 16  parent_incident_type   15000 non-null  object \n",
      " 17  state                  15000 non-null  object \n",
      " 18  updated_at             15000 non-null  object \n",
      " 19  zip                    14826 non-null  float64\n",
      "dtypes: float64(5), int64(3), object(12)\n",
      "memory usage: 2.3+ MB\n"
     ]
    }
   ],
   "source": [
    "# 13.Read in data: Roy_City_Police_Crime_Data_20231018\n",
    "roy = pd.read_csv('./Roy_City_Police_Crime_Data_20231018.csv')\n",
    "roy.info()"
   ]
  },
  {
   "cell_type": "code",
   "execution_count": 16,
   "id": "92dfba81",
   "metadata": {},
   "outputs": [
    {
     "name": "stdout",
     "output_type": "stream",
     "text": [
      "<class 'pandas.core.frame.DataFrame'>\n",
      "RangeIndex: 14 entries, 0 to 13\n",
      "Data columns (total 12 columns):\n",
      " #   Column                Non-Null Count  Dtype  \n",
      "---  ------                --------------  -----  \n",
      " 0   Agency                14 non-null     object \n",
      " 1   Population            14 non-null     int64  \n",
      " 2   Homicide              13 non-null     float64\n",
      " 3   Rape                  13 non-null     float64\n",
      " 4   Robbery               13 non-null     float64\n",
      " 5   Aggravated Assault    13 non-null     float64\n",
      " 6   Burglary              13 non-null     float64\n",
      " 7   Larceny               13 non-null     float64\n",
      " 8   Motor Vehicle Theft   13 non-null     float64\n",
      " 9   Arson                 13 non-null     float64\n",
      " 10  Total Crime Index     13 non-null     float64\n",
      " 11  Crime Rate per 1,000  11 non-null     float64\n",
      "dtypes: float64(10), int64(1), object(1)\n",
      "memory usage: 1.4+ KB\n"
     ]
    }
   ],
   "source": [
    "# 14.Read in data: Salt_Lake_County_Crime_Data_2013_20231018\n",
    "slc = pd.read_csv('./Salt_Lake_County_Crime_Data_2013_20231018.csv')\n",
    "slc.info()"
   ]
  },
  {
   "cell_type": "code",
   "execution_count": 17,
   "id": "ab38cc2b",
   "metadata": {},
   "outputs": [
    {
     "name": "stdout",
     "output_type": "stream",
     "text": [
      "<class 'pandas.core.frame.DataFrame'>\n",
      "RangeIndex: 6211 entries, 0 to 6210\n",
      "Data columns (total 20 columns):\n",
      " #   Column                 Non-Null Count  Dtype  \n",
      "---  ------                 --------------  -----  \n",
      " 0   column 1               6211 non-null   int64  \n",
      " 1   address_1              6211 non-null   object \n",
      " 2   case_number            6211 non-null   int64  \n",
      " 3   city                   6211 non-null   object \n",
      " 4   clearance_type         0 non-null      float64\n",
      " 5   country                0 non-null      float64\n",
      " 6   created_at             6211 non-null   object \n",
      " 7   day_of_week            6211 non-null   object \n",
      " 8   hour_of_day            6211 non-null   int64  \n",
      " 9   incident_datetime      6211 non-null   object \n",
      " 10  incident_description   6211 non-null   object \n",
      " 11  incident_id            6211 non-null   int64  \n",
      " 12  incident_type_primary  6211 non-null   object \n",
      " 13  latitude               6211 non-null   float64\n",
      " 14  location               6211 non-null   object \n",
      " 15  longitude              6211 non-null   float64\n",
      " 16  parent_incident_type   6211 non-null   object \n",
      " 17  state                  6211 non-null   object \n",
      " 18  updated_at             6211 non-null   object \n",
      " 19  zip                    6080 non-null   float64\n",
      "dtypes: float64(5), int64(4), object(11)\n",
      "memory usage: 970.6+ KB\n"
     ]
    }
   ],
   "source": [
    "# 15.Read in data: Smithfield_Police_Crime_Data_20231018\n",
    "smithfield = pd.read_csv('./Smithfield_Police_Crime_Data_20231018.csv')\n",
    "smithfield.info()"
   ]
  },
  {
   "cell_type": "code",
   "execution_count": 18,
   "id": "11910de0",
   "metadata": {},
   "outputs": [
    {
     "name": "stdout",
     "output_type": "stream",
     "text": [
      "<class 'pandas.core.frame.DataFrame'>\n",
      "RangeIndex: 15000 entries, 0 to 14999\n",
      "Data columns (total 20 columns):\n",
      " #   Column                 Non-Null Count  Dtype  \n",
      "---  ------                 --------------  -----  \n",
      " 0   column 1               15000 non-null  int64  \n",
      " 1   address_1              14987 non-null  object \n",
      " 2   case_number            15000 non-null  object \n",
      " 3   city                   15000 non-null  object \n",
      " 4   clearance_type         0 non-null      float64\n",
      " 5   country                0 non-null      float64\n",
      " 6   created_at             15000 non-null  object \n",
      " 7   day_of_week            15000 non-null  object \n",
      " 8   hour_of_day            15000 non-null  int64  \n",
      " 9   incident_datetime      15000 non-null  object \n",
      " 10  incident_description   15000 non-null  object \n",
      " 11  incident_id            15000 non-null  int64  \n",
      " 12  incident_type_primary  15000 non-null  object \n",
      " 13  latitude               15000 non-null  float64\n",
      " 14  location               14987 non-null  object \n",
      " 15  longitude              15000 non-null  float64\n",
      " 16  parent_incident_type   15000 non-null  object \n",
      " 17  state                  15000 non-null  object \n",
      " 18  updated_at             15000 non-null  object \n",
      " 19  zip                    4032 non-null   float64\n",
      "dtypes: float64(5), int64(3), object(12)\n",
      "memory usage: 2.3+ MB\n"
     ]
    }
   ],
   "source": [
    "# 16.Read in data: South_Ogden_Police_Crime_Data_20231018\n",
    "s_ogden = pd.read_csv('./South_Ogden_Police_Crime_Data_20231018.csv')\n",
    "s_ogden.info()"
   ]
  },
  {
   "cell_type": "code",
   "execution_count": 19,
   "id": "f84f5903",
   "metadata": {},
   "outputs": [
    {
     "name": "stdout",
     "output_type": "stream",
     "text": [
      "<class 'pandas.core.frame.DataFrame'>\n",
      "RangeIndex: 15000 entries, 0 to 14999\n",
      "Data columns (total 20 columns):\n",
      " #   Column                 Non-Null Count  Dtype  \n",
      "---  ------                 --------------  -----  \n",
      " 0   Unnamed Column         15000 non-null  int64  \n",
      " 1   address_1              14982 non-null  object \n",
      " 2   case_number            15000 non-null  int64  \n",
      " 3   city                   14992 non-null  object \n",
      " 4   clearance_type         0 non-null      float64\n",
      " 5   country                0 non-null      float64\n",
      " 6   created_at             15000 non-null  object \n",
      " 7   day_of_week            15000 non-null  object \n",
      " 8   hour_of_day            15000 non-null  int64  \n",
      " 9   incident_datetime      15000 non-null  object \n",
      " 10  incident_description   15000 non-null  object \n",
      " 11  incident_id            15000 non-null  int64  \n",
      " 12  incident_type_primary  15000 non-null  object \n",
      " 13  latitude               14983 non-null  float64\n",
      " 14  location               14982 non-null  object \n",
      " 15  longitude              14983 non-null  float64\n",
      " 16  parent_incident_type   15000 non-null  object \n",
      " 17  state                  15000 non-null  object \n",
      " 18  updated_at             15000 non-null  object \n",
      " 19  zip                    14331 non-null  object \n",
      "dtypes: float64(4), int64(4), object(12)\n",
      "memory usage: 2.3+ MB\n"
     ]
    }
   ],
   "source": [
    "# 17.Read in data: Sunset_Police_Crime_Data_20231018\n",
    "sunset = pd.read_csv('./Sunset_Police_Crime_Data_20231018.csv')\n",
    "sunset.info()"
   ]
  },
  {
   "cell_type": "code",
   "execution_count": 20,
   "id": "58461030",
   "metadata": {},
   "outputs": [
    {
     "name": "stdout",
     "output_type": "stream",
     "text": [
      "<class 'pandas.core.frame.DataFrame'>\n",
      "RangeIndex: 15000 entries, 0 to 14999\n",
      "Data columns (total 18 columns):\n",
      " #   Column                 Non-Null Count  Dtype  \n",
      "---  ------                 --------------  -----  \n",
      " 0   column 1               15000 non-null  int64  \n",
      " 1   address_1              15000 non-null  object \n",
      " 2   case_number            15000 non-null  object \n",
      " 3   city                   15000 non-null  object \n",
      " 4   clearance_type         0 non-null      float64\n",
      " 5   created_at             15000 non-null  object \n",
      " 6   day_of_week            15000 non-null  object \n",
      " 7   hour_of_day            15000 non-null  int64  \n",
      " 8   incident_datetime      15000 non-null  object \n",
      " 9   incident_description   15000 non-null  object \n",
      " 10  incident_id            15000 non-null  int64  \n",
      " 11  incident_type_primary  15000 non-null  object \n",
      " 12  latitude               15000 non-null  float64\n",
      " 13  location               15000 non-null  object \n",
      " 14  longitude              15000 non-null  float64\n",
      " 15  parent_incident_type   15000 non-null  object \n",
      " 16  state                  15000 non-null  object \n",
      " 17  updated_at             15000 non-null  object \n",
      "dtypes: float64(3), int64(3), object(12)\n",
      "memory usage: 2.1+ MB\n"
     ]
    }
   ],
   "source": [
    "# 18.Read in data: Syracuse_Police_Crime_Data_20231018\n",
    "syracuse = pd.read_csv('./Syracuse_Police_Crime_Data_20231018.csv')\n",
    "syracuse.info()"
   ]
  },
  {
   "cell_type": "code",
   "execution_count": 21,
   "id": "79746d4b",
   "metadata": {},
   "outputs": [
    {
     "name": "stdout",
     "output_type": "stream",
     "text": [
      "<class 'pandas.core.frame.DataFrame'>\n",
      "RangeIndex: 72400 entries, 0 to 72399\n",
      "Data columns (total 20 columns):\n",
      " #   Column                 Non-Null Count  Dtype  \n",
      "---  ------                 --------------  -----  \n",
      " 0   incident_id            72400 non-null  int64  \n",
      " 1   case_number            72400 non-null  object \n",
      " 2   incident_datetime      72400 non-null  object \n",
      " 3   incident_type_primary  72400 non-null  object \n",
      " 4   incident_description   72400 non-null  object \n",
      " 5   clearance_type         0 non-null      float64\n",
      " 6   address_1              72381 non-null  object \n",
      " 7   address_2              0 non-null      float64\n",
      " 8   city                   72399 non-null  object \n",
      " 9   state                  72400 non-null  object \n",
      " 10  zip                    3266 non-null   float64\n",
      " 11  country                22156 non-null  object \n",
      " 12  latitude               72400 non-null  float64\n",
      " 13  longitude              72400 non-null  float64\n",
      " 14  created_at             72400 non-null  object \n",
      " 15  updated_at             72400 non-null  object \n",
      " 16  location               72398 non-null  object \n",
      " 17  hour_of_day            72400 non-null  int64  \n",
      " 18  day_of_week            72400 non-null  object \n",
      " 19  parent_incident_type   72400 non-null  object \n",
      "dtypes: float64(5), int64(2), object(13)\n",
      "memory usage: 11.0+ MB\n"
     ]
    },
    {
     "name": "stderr",
     "output_type": "stream",
     "text": [
      "C:\\Users\\jenin\\AppData\\Local\\Temp\\ipykernel_16960\\1294864791.py:2: DtypeWarning: Columns (11) have mixed types. Specify dtype option on import or set low_memory=False.\n",
      "  utah = pd.read_csv('./Utah_County_Sheriff_Crime_Incident_Data_20231018.csv')\n"
     ]
    }
   ],
   "source": [
    "# 19.Read in data: Utah_County_Sheriff_Crime_Incident_Data_20231018\n",
    "utah = pd.read_csv('./Utah_County_Sheriff_Crime_Incident_Data_20231018.csv')\n",
    "utah.info()"
   ]
  },
  {
   "cell_type": "code",
   "execution_count": 23,
   "id": "92a409b5",
   "metadata": {},
   "outputs": [
    {
     "name": "stdout",
     "output_type": "stream",
     "text": [
      "<class 'pandas.core.frame.DataFrame'>\n",
      "RangeIndex: 49624 entries, 0 to 49623\n",
      "Data columns (total 20 columns):\n",
      " #   Column                 Non-Null Count  Dtype  \n",
      "---  ------                 --------------  -----  \n",
      " 0   column 1               49624 non-null  int64  \n",
      " 1   address_1              49598 non-null  object \n",
      " 2   case_number            49624 non-null  int64  \n",
      " 3   city                   49600 non-null  object \n",
      " 4   clearance_type         0 non-null      float64\n",
      " 5   country                0 non-null      float64\n",
      " 6   created_at             49624 non-null  object \n",
      " 7   day_of_week            49624 non-null  object \n",
      " 8   hour_of_day            49624 non-null  int64  \n",
      " 9   incident_datetime      49624 non-null  object \n",
      " 10  incident_description   49624 non-null  object \n",
      " 11  incident_id            49624 non-null  int64  \n",
      " 12  incident_type_primary  49624 non-null  object \n",
      " 13  latitude               49602 non-null  float64\n",
      " 14  location               49587 non-null  object \n",
      " 15  longitude              49602 non-null  float64\n",
      " 16  parent_incident_type   49624 non-null  object \n",
      " 17  state                  49624 non-null  object \n",
      " 18  updated_at             49624 non-null  object \n",
      " 19  zip                    45007 non-null  object \n",
      "dtypes: float64(4), int64(4), object(12)\n",
      "memory usage: 7.6+ MB\n"
     ]
    }
   ],
   "source": [
    "# 20.Read in data: Woods_Cross_Police_Crime_Data_20231018\n",
    "woods_cross = pd.read_csv('./Woods_Cross_Police_Crime_Data_20231018.csv')\n",
    "woods_cross.info()"
   ]
  },
  {
   "cell_type": "code",
   "execution_count": 22,
   "id": "62ccef96",
   "metadata": {},
   "outputs": [
    {
     "name": "stdout",
     "output_type": "stream",
     "text": [
      "<class 'pandas.core.frame.DataFrame'>\n",
      "RangeIndex: 16820 entries, 0 to 16819\n",
      "Data columns (total 14 columns):\n",
      " #   Column                                    Non-Null Count  Dtype  \n",
      "---  ------                                    --------------  -----  \n",
      " 0   Year                                      16820 non-null  int64  \n",
      " 1   NPI                                       16820 non-null  int64  \n",
      " 2   NPPES Provider Last Name                  16820 non-null  object \n",
      " 3   NPPES Provider First Name                 16817 non-null  object \n",
      " 4   NPPES Provider ZIP Code                   16820 non-null  int64  \n",
      " 5   City                                      16820 non-null  object \n",
      " 6   County                                    16810 non-null  object \n",
      " 7   NPPES Provider State                      16820 non-null  object \n",
      " 8   Specialty Description                     16820 non-null  object \n",
      " 9   Total Claim Count                         16820 non-null  int64  \n",
      " 10  Opioid Claim Count                        11466 non-null  float64\n",
      " 11  Opioid Prescribing Rate                   11466 non-null  float64\n",
      " 12  Extended-Release Opioid Claims            8340 non-null   float64\n",
      " 13  Extended-Release Opioid Prescribing Rate  4031 non-null   float64\n",
      "dtypes: float64(4), int64(4), object(6)\n",
      "memory usage: 1.8+ MB\n"
     ]
    }
   ],
   "source": [
    "# Read in data: Utah_Opioid_Prescription_Data_by_City_Zip___County_2015_2016\n",
    "opioid = pd.read_csv('./Utah_Opioid_Prescription_Data_by_City_Zip___County_2015_2016.csv')\n",
    "opioid.info()"
   ]
  }
 ],
 "metadata": {
  "kernelspec": {
   "display_name": "Python 3 (ipykernel)",
   "language": "python",
   "name": "python3"
  },
  "language_info": {
   "codemirror_mode": {
    "name": "ipython",
    "version": 3
   },
   "file_extension": ".py",
   "mimetype": "text/x-python",
   "name": "python",
   "nbconvert_exporter": "python",
   "pygments_lexer": "ipython3",
   "version": "3.11.5"
  }
 },
 "nbformat": 4,
 "nbformat_minor": 5
}
